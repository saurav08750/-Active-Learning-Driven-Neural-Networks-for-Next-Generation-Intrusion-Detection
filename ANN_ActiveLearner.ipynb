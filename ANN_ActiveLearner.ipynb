{
 "cells": [
  {
   "cell_type": "code",
   "execution_count": null,
   "id": "48b8f985-25da-49ca-b258-aabae6b2fbb3",
   "metadata": {},
   "outputs": [],
   "source": [
    "import pandas as pd\n",
    "from sklearn.preprocessing import LabelEncoder\n",
    "from sklearn.model_selection import train_test_split\n",
    "from sklearn.preprocessing import MinMaxScaler\n",
    "import tensorflow as tf\n",
    "from tensorflow import keras\n",
    "from tensorflow.keras.models import Sequential\n",
    "from tensorflow.keras.layers import Dense\n",
    "import modAL\n",
    "import numpy as np\n",
    "from modAL.models import ActiveLearner\n",
    "from modAL.uncertainty import uncertainty_sampling\n",
    "from scikeras.wrappers import KerasClassifier\n",
    "from sklearn.metrics import confusion_matrix,ConfusionMatrixDisplay\n",
    "from imblearn.over_sampling import SMOTE\n",
    "from sklearn.metrics import classification_report"
   ]
  },
  {
   "cell_type": "code",
   "execution_count": null,
   "id": "81c689e4-fd23-4539-a0eb-28e6d261187f",
   "metadata": {
    "scrolled": true
   },
   "outputs": [],
   "source": [
    "df=pd.read_csv(\"C:\\\\users/rsaur/Downloads/project/NF-UNSW-NB15 -Dataset/NF-UNSW-NB15 -Dataset.csv\")\n",
    "df"
   ]
  },
  {
   "cell_type": "code",
   "execution_count": null,
   "id": "6bbe1227-4409-453a-9fdf-916702a7b50e",
   "metadata": {
    "scrolled": true
   },
   "outputs": [],
   "source": [
    "df['Attack'].value_counts()"
   ]
  },
  {
   "cell_type": "code",
   "execution_count": null,
   "id": "bdef83d7-9888-48f2-a546-b5eb84f660d9",
   "metadata": {
    "scrolled": true
   },
   "outputs": [],
   "source": [
    "df1=df.copy()\n",
    "df1"
   ]
  },
  {
   "cell_type": "code",
   "execution_count": null,
   "id": "abe647ff-5dbf-4507-a6b1-364028fbfa18",
   "metadata": {
    "scrolled": true
   },
   "outputs": [],
   "source": [
    "x=df1.drop([\"Label\",\"Attack\"],axis=1)\n",
    "x"
   ]
  },
  {
   "cell_type": "code",
   "execution_count": null,
   "id": "4df6c78c-bcfc-405f-bd6c-88dc82186a68",
   "metadata": {
    "scrolled": true
   },
   "outputs": [],
   "source": [
    "y=df1[[\"Label\"]]\n",
    "y"
   ]
  },
  {
   "cell_type": "code",
   "execution_count": null,
   "id": "5ae2aba2-069a-4535-8390-f4978888858b",
   "metadata": {},
   "outputs": [],
   "source": [
    "y.value_counts()"
   ]
  },
  {
   "cell_type": "code",
   "execution_count": null,
   "id": "6aaeb38c-f420-4fce-b24b-d4e55533e120",
   "metadata": {},
   "outputs": [],
   "source": [
    "y.shape,x.shape"
   ]
  },
  {
   "cell_type": "code",
   "execution_count": null,
   "id": "d1a0a256-0c97-4caf-9455-84cfa71f903c",
   "metadata": {},
   "outputs": [],
   "source": [
    "label_encoder=LabelEncoder()\n",
    "x[\"IPV4_SRC_ADDR\"]=label_encoder.fit_transform(x[\"IPV4_SRC_ADDR\"])\n",
    "x[\"IPV4_DST_ADDR\"]=label_encoder.fit_transform(x[\"IPV4_DST_ADDR\"])"
   ]
  },
  {
   "cell_type": "code",
   "execution_count": null,
   "id": "9dc49c0d-fb7b-4ccf-9a6e-7c88c561633b",
   "metadata": {
    "scrolled": true
   },
   "outputs": [],
   "source": [
    "x[\"IPV4_SRC_ADDR\"].value_counts(), x[\"IPV4_DST_ADDR\"].value_counts()"
   ]
  },
  {
   "cell_type": "code",
   "execution_count": null,
   "id": "5a6cc8e9-520a-4a8a-b3da-e688287d0c22",
   "metadata": {},
   "outputs": [],
   "source": [
    "smote = SMOTE(sampling_strategy= 'minority')\n",
    "x_new,y_new = smote.fit_resample(x,y)\n",
    "y_new.value_counts()"
   ]
  },
  {
   "cell_type": "code",
   "execution_count": null,
   "id": "139f9d38-6f6c-4639-8d64-7f9455c93904",
   "metadata": {
    "scrolled": true
   },
   "outputs": [],
   "source": [
    "scaler=MinMaxScaler(feature_range=(0,1))\n",
    "x_scaled=scaler.fit_transform(x_new)\n",
    "x_scaled"
   ]
  },
  {
   "cell_type": "code",
   "execution_count": null,
   "id": "c86115fa-6961-46a8-9c84-e949e15fc595",
   "metadata": {},
   "outputs": [],
   "source": [
    "x_train,x_pool,y_train,y_pool=train_test_split(x_scaled,y_new,train_size=0.1,random_state=42,shuffle=True,stratify=y_new)"
   ]
  },
  {
   "cell_type": "code",
   "execution_count": null,
   "id": "514c3248-80f0-4734-8afd-98d9596a0952",
   "metadata": {},
   "outputs": [],
   "source": [
    "def model_ANN():\n",
    "    model= keras.Sequential([\n",
    "        keras.layers.Dense(50,activation='relu',input_shape=(12,)),\n",
    "        keras.layers.Dense(50,activation='relu',input_shape=(12,)),\n",
    "        keras.layers.Dense(1,activation='sigmoid')\n",
    "])\n",
    "    model.compile(optimizer='adam',loss='binary_crossentropy',metrics=['accuracy'])\n",
    "    #model.fit(x_train,y_train,batch_size=100,epochs=10)\n",
    "    return model\n",
    "classifier=KerasClassifier(model_ANN())"
   ]
  },
  {
   "cell_type": "code",
   "execution_count": null,
   "id": "bc51558c-e9af-452b-ae2f-8288ee9b9cb1",
   "metadata": {},
   "outputs": [],
   "source": [
    "learner= ActiveLearner(\n",
    "    estimator=classifier,\n",
    "    query_strategy=uncertainty_sampling,\n",
    "    x_training=x_train,\n",
    "    y_training=y_train,\n",
    "    verbose=1\n",
    ")"
   ]
  },
  {
   "cell_type": "code",
   "execution_count": null,
   "id": "d8e97029-662a-41dc-80d5-3fbfe67ce300",
   "metadata": {},
   "outputs": [],
   "source": [
    "n_queries=30\n",
    "for idx in range(n_queries):\n",
    "    query_idx ,query_sample = learner.query(x_pool,n_instances=100,verbose=0)\n",
    "    learner.teach(x_pool,y_pool,only_new=True,verbose=1)\n",
    "    x_pool=np.delete(x_pool,query_idx,axis=0)\n",
    "    y_pool=np.delete(y_pool,query_idx,axis=0)"
   ]
  },
  {
   "cell_type": "code",
   "execution_count": null,
   "id": "a1e30fa8-6e96-45e0-886a-07940a84552b",
   "metadata": {},
   "outputs": [],
   "source": [
    "score=learner.score(x_pool,y_pool )\n",
    "print(\"score:\",score*100,\"%\")"
   ]
  },
  {
   "cell_type": "code",
   "execution_count": null,
   "id": "9365aec9-2346-437b-90fe-968b6716586c",
   "metadata": {},
   "outputs": [],
   "source": [
    "y_pred=learner.predict(x_pool)"
   ]
  },
  {
   "cell_type": "code",
   "execution_count": null,
   "id": "9f5defae-f2a8-4eb2-8443-57d66538ed5d",
   "metadata": {},
   "outputs": [],
   "source": [
    "category_names=[\"Benign\",\"Attack\"]\n",
    "report=classification_report(y_pool,y_pred,target_names=category_names,labels=[0,1],digits=4)\n",
    "print(report)"
   ]
  },
  {
   "cell_type": "code",
   "execution_count": null,
   "id": "d7837744-3d2e-45fa-bfce-554a23f255a7",
   "metadata": {},
   "outputs": [],
   "source": [
    "confusion_matrix=ConfusionMatrixDisplay.from_predictions(y_pool,y_pred)\n",
    "confusion_matrix\n",
    "print(\"Benign = 0\")\n",
    "print(\"Attack = 1\")"
   ]
  },
  {
   "cell_type": "code",
   "execution_count": null,
   "id": "e2deeca2-79f1-4885-9fc1-c35b6b020e01",
   "metadata": {},
   "outputs": [],
   "source": []
  }
 ],
 "metadata": {
  "kernelspec": {
   "display_name": "Python 3 (ipykernel)",
   "language": "python",
   "name": "python3"
  },
  "language_info": {
   "codemirror_mode": {
    "name": "ipython",
    "version": 3
   },
   "file_extension": ".py",
   "mimetype": "text/x-python",
   "name": "python",
   "nbconvert_exporter": "python",
   "pygments_lexer": "ipython3",
   "version": "3.11.7"
  }
 },
 "nbformat": 4,
 "nbformat_minor": 5
}
